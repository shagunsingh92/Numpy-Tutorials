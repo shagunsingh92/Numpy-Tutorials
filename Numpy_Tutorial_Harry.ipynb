{
 "cells": [
  {
   "cell_type": "code",
   "execution_count": 1,
   "id": "6ff712e5",
   "metadata": {},
   "outputs": [],
   "source": [
    "import numpy as np"
   ]
  },
  {
   "cell_type": "markdown",
   "id": "0a0038c2",
   "metadata": {},
   "source": [
    "1. *text between one star will give itallic markdown* \n",
    "2. **text between two stars will make the text bold**\n",
    "3. ***text between three stars will make the text bold and itallic***"
   ]
  },
  {
   "cell_type": "markdown",
   "id": "f4b866a3",
   "metadata": {},
   "source": [
    "There are 6 general mechanisms for creating arrays:\n",
    "\n",
    "1. Conversion from other Python structures (i.e. lists and tuples)\n",
    "2. Intrinsic NumPy array creation functions (e.g. arange, ones, zeros, etc.)\n",
    "3. Replicating, joining, or mutating existing arrays\n",
    "4. Reading arrays from disk, either from standard or custom formats\n",
    "5. Creating arrays from raw bytes through the use of strings or buffers\n",
    "6. Use of special library functions (e.g., random)"
   ]
  },
  {
   "cell_type": "markdown",
   "id": "7be0c502",
   "metadata": {},
   "source": [
    "***Examples of point number 1***"
   ]
  },
  {
   "cell_type": "markdown",
   "id": "9c7e3d55",
   "metadata": {},
   "source": [
    "Creating a numpy 1D array below with the dtype. The dtype will decide how many bits of numerical can be allowed in the array eg. np.int8, np.int32, np.int64"
   ]
  },
  {
   "cell_type": "code",
   "execution_count": 2,
   "id": "0d5ee8ba",
   "metadata": {},
   "outputs": [],
   "source": [
    "myarray = np.array([3,4,5,6,7], np.int8)"
   ]
  },
  {
   "cell_type": "code",
   "execution_count": 3,
   "id": "d07c7c51",
   "metadata": {},
   "outputs": [
    {
     "data": {
      "text/plain": [
       "array([3, 4, 5, 6, 7], dtype=int8)"
      ]
     },
     "execution_count": 3,
     "metadata": {},
     "output_type": "execute_result"
    }
   ],
   "source": [
    "myarray"
   ]
  },
  {
   "cell_type": "markdown",
   "id": "414288cf",
   "metadata": {},
   "source": [
    "Indexing in one dimensional array"
   ]
  },
  {
   "cell_type": "code",
   "execution_count": 4,
   "id": "b5d0b41e",
   "metadata": {},
   "outputs": [
    {
     "data": {
      "text/plain": [
       "3"
      ]
     },
     "execution_count": 4,
     "metadata": {},
     "output_type": "execute_result"
    }
   ],
   "source": [
    "myarray[0]"
   ]
  },
  {
   "cell_type": "markdown",
   "id": "bb5204bc",
   "metadata": {},
   "source": [
    "In order to create a 2D array one needs to put two square brackets."
   ]
  },
  {
   "cell_type": "code",
   "execution_count": 5,
   "id": "e4fe519e",
   "metadata": {},
   "outputs": [],
   "source": [
    "myarray = np.array([[3,4,5,6,7]], np.int8)"
   ]
  },
  {
   "cell_type": "code",
   "execution_count": 6,
   "id": "396c3e5d",
   "metadata": {},
   "outputs": [
    {
     "data": {
      "text/plain": [
       "3"
      ]
     },
     "execution_count": 6,
     "metadata": {},
     "output_type": "execute_result"
    }
   ],
   "source": [
    "myarray[0,0]"
   ]
  },
  {
   "cell_type": "code",
   "execution_count": 7,
   "id": "2db0c1e0",
   "metadata": {},
   "outputs": [
    {
     "data": {
      "text/plain": [
       "array([[1, 2, 3],\n",
       "       [3, 4, 5],\n",
       "       [6, 7, 8]])"
      ]
     },
     "execution_count": 7,
     "metadata": {},
     "output_type": "execute_result"
    }
   ],
   "source": [
    "mylist_array = np.array([[1,2,3],[3,4,5],[6,7,8]])\n",
    "mylist_array"
   ]
  },
  {
   "cell_type": "code",
   "execution_count": 11,
   "id": "bc3ed598",
   "metadata": {},
   "outputs": [
    {
     "name": "stdout",
     "output_type": "stream",
     "text": [
      "[[4 5]\n",
      " [7 8]]\n"
     ]
    }
   ],
   "source": [
    "print(mylist_array[1:,1:])"
   ]
  },
  {
   "cell_type": "markdown",
   "id": "ba30263f",
   "metadata": {},
   "source": [
    "Changing a value in the numpy array"
   ]
  },
  {
   "cell_type": "code",
   "execution_count": null,
   "id": "d35c0086",
   "metadata": {},
   "outputs": [],
   "source": [
    "myarray[0,0]=8\n",
    "myarray"
   ]
  },
  {
   "cell_type": "markdown",
   "id": "bbd76732",
   "metadata": {},
   "source": [
    "**better to use integer and float dtype in creating a numpy array i.e. use only tuple and list with integer and float values to create a numpy array. Arrays can also be created by using dictionaries, sets and other python objects, but that is not a very efficient way of doing things. ***"
   ]
  },
  {
   "cell_type": "markdown",
   "id": "37666c4b",
   "metadata": {},
   "source": [
    "***Examples of point number 2***"
   ]
  },
  {
   "cell_type": "code",
   "execution_count": null,
   "id": "f0b66d4a",
   "metadata": {},
   "outputs": [],
   "source": [
    "my_zeros = np.zeros((2,3))\n",
    "my_zeros"
   ]
  },
  {
   "cell_type": "code",
   "execution_count": null,
   "id": "874b05cf",
   "metadata": {},
   "outputs": [],
   "source": [
    "my_ones = np.ones((5,6))\n",
    "my_ones"
   ]
  },
  {
   "cell_type": "markdown",
   "id": "15b2f787",
   "metadata": {},
   "source": [
    "arange function of numpy is like range function of python. Here the atributes are start, stop and step."
   ]
  },
  {
   "cell_type": "code",
   "execution_count": null,
   "id": "2c86effc",
   "metadata": {},
   "outputs": [],
   "source": [
    "my_range = np.arange(1,5,1)\n",
    "my_range"
   ]
  },
  {
   "cell_type": "markdown",
   "id": "9d8cba07",
   "metadata": {},
   "source": [
    "linspace function of numpy will give linearly spaced values between a start and stop point. Attributes of this function are - start, stop and number of elements required in the output array. In the example below, 4 elements are printed which are linearly spaced between 2 and 7. "
   ]
  },
  {
   "cell_type": "code",
   "execution_count": null,
   "id": "6c020822",
   "metadata": {},
   "outputs": [],
   "source": [
    "my_linear_array = np.linspace(2,7,4)\n",
    "my_linear_array"
   ]
  },
  {
   "cell_type": "markdown",
   "id": "4d9673c2",
   "metadata": {},
   "source": [
    "np.empty() will create an empty array and fills it with random values. These values can be changed later on using index of the empty array"
   ]
  },
  {
   "cell_type": "code",
   "execution_count": null,
   "id": "79eed0ca",
   "metadata": {},
   "outputs": [],
   "source": [
    "empty_array = np.empty((2,4))\n",
    "empty_array"
   ]
  },
  {
   "cell_type": "markdown",
   "id": "cf97b836",
   "metadata": {},
   "source": [
    "In a simmilar fashion we can also create an empty array which has dimensions simmilar to other array which has already been created. use empty_like() for it."
   ]
  },
  {
   "cell_type": "code",
   "execution_count": null,
   "id": "07ec9c58",
   "metadata": {},
   "outputs": [],
   "source": [
    "emptylike_array = np.empty_like(my_linear_array)\n",
    "emptylike_array"
   ]
  },
  {
   "cell_type": "markdown",
   "id": "34ec4ffa",
   "metadata": {},
   "source": [
    "We can create an identity marrtix or array using the identity function. np.identy(). Identity matrix is a square matrix and hence we need to pass only one value in the parenthesis not two. "
   ]
  },
  {
   "cell_type": "code",
   "execution_count": null,
   "id": "3f2338ed",
   "metadata": {},
   "outputs": [],
   "source": [
    "my_identity = np.identity((5))\n",
    "my_identity"
   ]
  },
  {
   "cell_type": "code",
   "execution_count": null,
   "id": "819bda96",
   "metadata": {},
   "outputs": [],
   "source": [
    "new_array = np.array([[22,33,44],[55,66,77],[88,99,11]])"
   ]
  },
  {
   "cell_type": "code",
   "execution_count": null,
   "id": "64a597c0",
   "metadata": {},
   "outputs": [],
   "source": [
    "print(np.sqrt(new_array))"
   ]
  },
  {
   "cell_type": "markdown",
   "id": "1b1cbd7a",
   "metadata": {},
   "source": [
    "***Examples of point number 3***"
   ]
  },
  {
   "cell_type": "code",
   "execution_count": null,
   "id": "6f853fea",
   "metadata": {},
   "outputs": [],
   "source": [
    "reshaped_arryay"
   ]
  },
  {
   "cell_type": "code",
   "execution_count": null,
   "id": "8fbde4f1",
   "metadata": {},
   "outputs": [],
   "source": [
    "matrix_multiplication = reshaped_arryay*new_array\n",
    "matrix_multiplication"
   ]
  },
  {
   "cell_type": "code",
   "execution_count": null,
   "id": "7b340429",
   "metadata": {},
   "outputs": [],
   "source": [
    "matrix_sum = reshaped_arryay+new_array\n",
    "matrix_sum"
   ]
  },
  {
   "cell_type": "markdown",
   "id": "a1e19a82",
   "metadata": {},
   "source": [
    "**Important functions and attributes in Numpy - \n",
    "1. array.sum(), \n",
    "2. array.T, \n",
    "3. array.flat - (this will iterate through all the elements of an array.array) \n",
    "4. array.ndim - (this will give the numebr of dimensions of array)\n",
    "5. array.size - (this will give the number of elements that are present in  the array. \n",
    "6. array.nbytes - (this will give us the number of bytes used by the array)\n",
    "7. array.argmax() - (this will give the index value of the array where there is a maximum value)\n",
    "8. array.argmin() - this will return the index of minimum value\n",
    "9. array.argsort() - this will first sort an array and then return their index values. Gives out an array of indexes \n",
    "10. array.max()\n",
    "11. array.min()\n",
    "12. array.shape\n",
    "14. array.dtype\n",
    "15. np.count_nonzero(array)\n",
    "16. np.where(array>n)\n",
    "17. array.ravel()\n",
    "18. array.reshape()"
   ]
  },
  {
   "cell_type": "code",
   "execution_count": null,
   "id": "2bbb3802",
   "metadata": {},
   "outputs": [],
   "source": [
    "print(np.count_nonzero(new_array))"
   ]
  },
  {
   "cell_type": "code",
   "execution_count": null,
   "id": "8c51d035",
   "metadata": {},
   "outputs": [],
   "source": [
    "print(np.where(new_array>5))"
   ]
  },
  {
   "cell_type": "markdown",
   "id": "d1e74396",
   "metadata": {},
   "source": [
    "we can use array_name.ravel() to convert array of any shape to a 1 d array. "
   ]
  },
  {
   "cell_type": "code",
   "execution_count": null,
   "id": "59ce5caf",
   "metadata": {},
   "outputs": [],
   "source": [
    "x= reshaped_arryay.ravel()\n",
    "x"
   ]
  },
  {
   "cell_type": "markdown",
   "id": "28351914",
   "metadata": {},
   "source": [
    "array_name.reshape() function reshapes the array to a specific shape which has been passed to it as an argument. "
   ]
  },
  {
   "cell_type": "code",
   "execution_count": null,
   "id": "15fa2849",
   "metadata": {},
   "outputs": [],
   "source": [
    "reshaped_arryay = (np.arange(0,9,1)).reshape((3,3))\n",
    "reshaped_arryay"
   ]
  },
  {
   "cell_type": "code",
   "execution_count": null,
   "id": "2428c2b8",
   "metadata": {},
   "outputs": [],
   "source": [
    "myarray.shape"
   ]
  },
  {
   "cell_type": "code",
   "execution_count": null,
   "id": "3079fed3",
   "metadata": {},
   "outputs": [],
   "source": [
    "myarray.size"
   ]
  },
  {
   "cell_type": "code",
   "execution_count": null,
   "id": "ab9be472",
   "metadata": {},
   "outputs": [],
   "source": [
    "myarray.dtype"
   ]
  },
  {
   "cell_type": "code",
   "execution_count": null,
   "id": "04cab13f",
   "metadata": {},
   "outputs": [],
   "source": [
    "y= (np.array([[3,4,5],[5,6,7],[8,9,0]])).sum(axis = 0)\n",
    "y"
   ]
  },
  {
   "cell_type": "code",
   "execution_count": null,
   "id": "f73bbe07",
   "metadata": {},
   "outputs": [],
   "source": [
    "Transpose_array= (np.array([[3,4,5],[5,6,7],[8,9,0]])).T\n",
    "Transpose_array"
   ]
  },
  {
   "cell_type": "code",
   "execution_count": null,
   "id": "d24e9e16",
   "metadata": {},
   "outputs": [],
   "source": [
    "for items in Transpose_array.flat:\n",
    "    print(items)"
   ]
  },
  {
   "cell_type": "code",
   "execution_count": null,
   "id": "9e4e106d",
   "metadata": {},
   "outputs": [],
   "source": [
    "print(Transpose_array.ndim)"
   ]
  },
  {
   "cell_type": "code",
   "execution_count": null,
   "id": "f1c3c412",
   "metadata": {},
   "outputs": [],
   "source": [
    "print(Transpose_array.nbytes)"
   ]
  },
  {
   "cell_type": "markdown",
   "id": "77450db2",
   "metadata": {},
   "source": [
    "Documentation to find methods and attributes of numpy : "
   ]
  }
 ],
 "metadata": {
  "kernelspec": {
   "display_name": "Python 3 (ipykernel)",
   "language": "python",
   "name": "python3"
  },
  "language_info": {
   "codemirror_mode": {
    "name": "ipython",
    "version": 3
   },
   "file_extension": ".py",
   "mimetype": "text/x-python",
   "name": "python",
   "nbconvert_exporter": "python",
   "pygments_lexer": "ipython3",
   "version": "3.9.13"
  }
 },
 "nbformat": 4,
 "nbformat_minor": 5
}
