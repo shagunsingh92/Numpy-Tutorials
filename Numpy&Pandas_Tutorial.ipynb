{
 "cells": [
  {
   "cell_type": "code",
   "execution_count": 1,
   "id": "6ff712e5",
   "metadata": {},
   "outputs": [],
   "source": [
    "import numpy as np"
   ]
  },
  {
   "cell_type": "markdown",
   "id": "0a0038c2",
   "metadata": {},
   "source": [
    "1. *text between one star will give itallic markdown* \n",
    "2. **text between two stars will make the text bold**\n",
    "3. ***text between three stars will make the text bold and itallic***"
   ]
  },
  {
   "cell_type": "markdown",
   "id": "f4b866a3",
   "metadata": {},
   "source": [
    "There are 6 general mechanisms for creating arrays:\n",
    "\n",
    "1. Conversion from other Python structures (i.e. lists and tuples)\n",
    "2. Intrinsic NumPy array creation functions (e.g. arange, ones, zeros, etc.)\n",
    "3. Replicating, joining, or mutating existing arrays\n",
    "4. Reading arrays from disk, either from standard or custom formats\n",
    "5. Creating arrays from raw bytes through the use of strings or buffers\n",
    "6. Use of special library functions (e.g., random)"
   ]
  },
  {
   "cell_type": "markdown",
   "id": "7be0c502",
   "metadata": {},
   "source": [
    "***Examples of point number 1***"
   ]
  },
  {
   "cell_type": "markdown",
   "id": "9c7e3d55",
   "metadata": {},
   "source": [
    "Creating a numpy 1D array below with the dtype. The dtype will decide how many bits of numerical can be allowed in the array eg. np.int8, np.int32, np.int64"
   ]
  },
  {
   "cell_type": "code",
   "execution_count": 2,
   "id": "0d5ee8ba",
   "metadata": {},
   "outputs": [],
   "source": [
    "myarray = np.array([3,4,5,6,7], np.int8)"
   ]
  },
  {
   "cell_type": "code",
   "execution_count": 3,
   "id": "d07c7c51",
   "metadata": {},
   "outputs": [
    {
     "data": {
      "text/plain": [
       "array([3, 4, 5, 6, 7], dtype=int8)"
      ]
     },
     "execution_count": 3,
     "metadata": {},
     "output_type": "execute_result"
    }
   ],
   "source": [
    "myarray"
   ]
  },
  {
   "cell_type": "markdown",
   "id": "414288cf",
   "metadata": {},
   "source": [
    "Indexing in one dimensional array"
   ]
  },
  {
   "cell_type": "code",
   "execution_count": 4,
   "id": "b5d0b41e",
   "metadata": {},
   "outputs": [
    {
     "data": {
      "text/plain": [
       "3"
      ]
     },
     "execution_count": 4,
     "metadata": {},
     "output_type": "execute_result"
    }
   ],
   "source": [
    "myarray[0]"
   ]
  },
  {
   "cell_type": "markdown",
   "id": "bb5204bc",
   "metadata": {},
   "source": [
    "In order to create a 2D array one needs to put two square brackets."
   ]
  },
  {
   "cell_type": "code",
   "execution_count": 5,
   "id": "e4fe519e",
   "metadata": {},
   "outputs": [],
   "source": [
    "myarray = np.array([[3,4,5,6,7]], np.int8)"
   ]
  },
  {
   "cell_type": "code",
   "execution_count": 6,
   "id": "396c3e5d",
   "metadata": {},
   "outputs": [
    {
     "data": {
      "text/plain": [
       "3"
      ]
     },
     "execution_count": 6,
     "metadata": {},
     "output_type": "execute_result"
    }
   ],
   "source": [
    "myarray[0,0]"
   ]
  },
  {
   "cell_type": "code",
   "execution_count": 7,
   "id": "2db0c1e0",
   "metadata": {},
   "outputs": [
    {
     "data": {
      "text/plain": [
       "array([[1, 2, 3],\n",
       "       [3, 4, 5],\n",
       "       [6, 7, 8]])"
      ]
     },
     "execution_count": 7,
     "metadata": {},
     "output_type": "execute_result"
    }
   ],
   "source": [
    "mylist_array = np.array([[1,2,3],[3,4,5],[6,7,8]])\n",
    "mylist_array"
   ]
  },
  {
   "cell_type": "markdown",
   "id": "ba30263f",
   "metadata": {},
   "source": [
    "Changing a value in the numpy array"
   ]
  },
  {
   "cell_type": "code",
   "execution_count": 8,
   "id": "d35c0086",
   "metadata": {},
   "outputs": [
    {
     "data": {
      "text/plain": [
       "array([[8, 4, 5, 6, 7]], dtype=int8)"
      ]
     },
     "execution_count": 8,
     "metadata": {},
     "output_type": "execute_result"
    }
   ],
   "source": [
    "myarray[0,0]=8\n",
    "myarray"
   ]
  },
  {
   "cell_type": "markdown",
   "id": "bbd76732",
   "metadata": {},
   "source": [
    "**better to use integer and float dtype in creating a numpy array i.e. use only tuple and list with integer and float values to create a numpy array. Arrays can also be created by using dictionaries, sets and other python objects, but that is not a very efficient way of doing things. ***"
   ]
  },
  {
   "cell_type": "markdown",
   "id": "37666c4b",
   "metadata": {},
   "source": [
    "***Examples of point number 2***"
   ]
  },
  {
   "cell_type": "code",
   "execution_count": 9,
   "id": "f0b66d4a",
   "metadata": {},
   "outputs": [
    {
     "data": {
      "text/plain": [
       "array([[0., 0., 0.],\n",
       "       [0., 0., 0.]])"
      ]
     },
     "execution_count": 9,
     "metadata": {},
     "output_type": "execute_result"
    }
   ],
   "source": [
    "my_zeros = np.zeros((2,3))\n",
    "my_zeros"
   ]
  },
  {
   "cell_type": "code",
   "execution_count": 10,
   "id": "874b05cf",
   "metadata": {},
   "outputs": [
    {
     "data": {
      "text/plain": [
       "array([[1., 1., 1., 1., 1., 1.],\n",
       "       [1., 1., 1., 1., 1., 1.],\n",
       "       [1., 1., 1., 1., 1., 1.],\n",
       "       [1., 1., 1., 1., 1., 1.],\n",
       "       [1., 1., 1., 1., 1., 1.]])"
      ]
     },
     "execution_count": 10,
     "metadata": {},
     "output_type": "execute_result"
    }
   ],
   "source": [
    "my_ones = np.ones((5,6))\n",
    "my_ones"
   ]
  },
  {
   "cell_type": "markdown",
   "id": "15b2f787",
   "metadata": {},
   "source": [
    "arange function of numpy is like range function of python. Here the atributes are start, stop and step."
   ]
  },
  {
   "cell_type": "code",
   "execution_count": 11,
   "id": "2c86effc",
   "metadata": {},
   "outputs": [
    {
     "data": {
      "text/plain": [
       "array([1, 2, 3, 4])"
      ]
     },
     "execution_count": 11,
     "metadata": {},
     "output_type": "execute_result"
    }
   ],
   "source": [
    "my_range = np.arange(1,5,1)\n",
    "my_range"
   ]
  },
  {
   "cell_type": "markdown",
   "id": "9d8cba07",
   "metadata": {},
   "source": [
    "linspace function of numpy will give linearly spaced values between a start and stop point. Attributes of this function are - start, stop and number of elements required in the output array. In the example below, 4 elements are printed which are linearly spaced between 2 and 7. "
   ]
  },
  {
   "cell_type": "code",
   "execution_count": 12,
   "id": "6c020822",
   "metadata": {},
   "outputs": [
    {
     "data": {
      "text/plain": [
       "array([2.        , 3.66666667, 5.33333333, 7.        ])"
      ]
     },
     "execution_count": 12,
     "metadata": {},
     "output_type": "execute_result"
    }
   ],
   "source": [
    "my_linear_array = np.linspace(2,7,4)\n",
    "my_linear_array"
   ]
  },
  {
   "cell_type": "markdown",
   "id": "4d9673c2",
   "metadata": {},
   "source": [
    "np.empty() will create an empty array and fills it with random values. These values can be changed later on using index of the empty array"
   ]
  },
  {
   "cell_type": "code",
   "execution_count": 13,
   "id": "79eed0ca",
   "metadata": {},
   "outputs": [
    {
     "data": {
      "text/plain": [
       "array([[6.23042070e-307, 4.67296746e-307, 1.69121096e-306,\n",
       "        7.56595733e-307],\n",
       "       [1.89146896e-307, 7.56571288e-307, 3.11525958e-307,\n",
       "        1.24610723e-306]])"
      ]
     },
     "execution_count": 13,
     "metadata": {},
     "output_type": "execute_result"
    }
   ],
   "source": [
    "empty_array = np.empty((2,4))\n",
    "empty_array"
   ]
  },
  {
   "cell_type": "markdown",
   "id": "cf97b836",
   "metadata": {},
   "source": [
    "In a simmilar fashion we can also create an empty array which has dimensions simmilar to other array which has already been created. use empty_like() for it."
   ]
  },
  {
   "cell_type": "code",
   "execution_count": 14,
   "id": "07ec9c58",
   "metadata": {},
   "outputs": [
    {
     "data": {
      "text/plain": [
       "array([2.        , 3.66666667, 5.33333333, 7.        ])"
      ]
     },
     "execution_count": 14,
     "metadata": {},
     "output_type": "execute_result"
    }
   ],
   "source": [
    "emptylike_array = np.empty_like(my_linear_array)\n",
    "emptylike_array"
   ]
  },
  {
   "cell_type": "markdown",
   "id": "34ec4ffa",
   "metadata": {},
   "source": [
    "We can create an identity marrtix or array using the identity function. np.identy(). Identity matrix is a square matrix and hence we need to pass only one value in the parenthesis not two. "
   ]
  },
  {
   "cell_type": "code",
   "execution_count": 15,
   "id": "3f2338ed",
   "metadata": {},
   "outputs": [
    {
     "data": {
      "text/plain": [
       "array([[1., 0., 0., 0., 0.],\n",
       "       [0., 1., 0., 0., 0.],\n",
       "       [0., 0., 1., 0., 0.],\n",
       "       [0., 0., 0., 1., 0.],\n",
       "       [0., 0., 0., 0., 1.]])"
      ]
     },
     "execution_count": 15,
     "metadata": {},
     "output_type": "execute_result"
    }
   ],
   "source": [
    "my_identity = np.identity((5))\n",
    "my_identity"
   ]
  },
  {
   "cell_type": "markdown",
   "id": "28351914",
   "metadata": {},
   "source": [
    "array_name.reshape() function reshapes the array to a specific shape which has been passed to it as an argument. "
   ]
  },
  {
   "cell_type": "code",
   "execution_count": 16,
   "id": "15fa2849",
   "metadata": {},
   "outputs": [
    {
     "data": {
      "text/plain": [
       "array([[0, 1, 2],\n",
       "       [3, 4, 5],\n",
       "       [6, 7, 8]])"
      ]
     },
     "execution_count": 16,
     "metadata": {},
     "output_type": "execute_result"
    }
   ],
   "source": [
    "reshaped_arryay = (np.arange(0,9,1)).reshape((3,3))\n",
    "reshaped_arryay"
   ]
  },
  {
   "cell_type": "code",
   "execution_count": 17,
   "id": "819bda96",
   "metadata": {},
   "outputs": [],
   "source": [
    "new_array = np.array([[22,33,44],[55,66,77],[88,99,11]])"
   ]
  },
  {
   "cell_type": "code",
   "execution_count": 18,
   "id": "64a597c0",
   "metadata": {},
   "outputs": [
    {
     "name": "stdout",
     "output_type": "stream",
     "text": [
      "[[4.69041576 5.74456265 6.63324958]\n",
      " [7.41619849 8.1240384  8.77496439]\n",
      " [9.38083152 9.94987437 3.31662479]]\n"
     ]
    }
   ],
   "source": [
    "print(np.sqrt(new_array))"
   ]
  },
  {
   "cell_type": "code",
   "execution_count": 19,
   "id": "8c51d035",
   "metadata": {},
   "outputs": [
    {
     "name": "stdout",
     "output_type": "stream",
     "text": [
      "(array([0, 0, 0, 1, 1, 1, 2, 2, 2], dtype=int64), array([0, 1, 2, 0, 1, 2, 0, 1, 2], dtype=int64))\n"
     ]
    }
   ],
   "source": [
    "print(np.where(new_array>5))"
   ]
  },
  {
   "cell_type": "markdown",
   "id": "d1e74396",
   "metadata": {},
   "source": [
    "we can use array_name.ravel() to convert array of any shape to a 1 d array. "
   ]
  },
  {
   "cell_type": "code",
   "execution_count": 20,
   "id": "59ce5caf",
   "metadata": {},
   "outputs": [
    {
     "data": {
      "text/plain": [
       "array([0, 1, 2, 3, 4, 5, 6, 7, 8])"
      ]
     },
     "execution_count": 20,
     "metadata": {},
     "output_type": "execute_result"
    }
   ],
   "source": [
    "x= reshaped_arryay.ravel()\n",
    "x"
   ]
  },
  {
   "cell_type": "code",
   "execution_count": 21,
   "id": "2bbb3802",
   "metadata": {},
   "outputs": [
    {
     "name": "stdout",
     "output_type": "stream",
     "text": [
      "9\n"
     ]
    }
   ],
   "source": [
    "print(np.count_nonzero(new_array))"
   ]
  },
  {
   "cell_type": "markdown",
   "id": "1b1cbd7a",
   "metadata": {},
   "source": [
    "***Examples of point number 3***"
   ]
  },
  {
   "cell_type": "code",
   "execution_count": 22,
   "id": "6f853fea",
   "metadata": {},
   "outputs": [
    {
     "data": {
      "text/plain": [
       "array([[0, 1, 2],\n",
       "       [3, 4, 5],\n",
       "       [6, 7, 8]])"
      ]
     },
     "execution_count": 22,
     "metadata": {},
     "output_type": "execute_result"
    }
   ],
   "source": [
    "reshaped_arryay"
   ]
  },
  {
   "cell_type": "code",
   "execution_count": 23,
   "id": "8fbde4f1",
   "metadata": {},
   "outputs": [
    {
     "data": {
      "text/plain": [
       "array([[  0,  33,  88],\n",
       "       [165, 264, 385],\n",
       "       [528, 693,  88]])"
      ]
     },
     "execution_count": 23,
     "metadata": {},
     "output_type": "execute_result"
    }
   ],
   "source": [
    "matrix_multiplication = reshaped_arryay*new_array\n",
    "matrix_multiplication"
   ]
  },
  {
   "cell_type": "code",
   "execution_count": 24,
   "id": "7b340429",
   "metadata": {},
   "outputs": [
    {
     "data": {
      "text/plain": [
       "array([[ 22,  34,  46],\n",
       "       [ 58,  70,  82],\n",
       "       [ 94, 106,  19]])"
      ]
     },
     "execution_count": 24,
     "metadata": {},
     "output_type": "execute_result"
    }
   ],
   "source": [
    "matrix_sum = reshaped_arryay+new_array\n",
    "matrix_sum"
   ]
  },
  {
   "cell_type": "markdown",
   "id": "a1e19a82",
   "metadata": {},
   "source": [
    "**Important functions and attributes in Numpy - \n",
    "1. array.sum(), \n",
    "2. array.T, \n",
    "3. array.flat - (this will iterate through all the elements of an array.array) \n",
    "4. array.ndim - (this will give the numebr of dimensions of array)\n",
    "5. array.size - (this will give the number of elements that are present in  the array. \n",
    "6. array.nbytes - (this will give us the number of bytes used by the array)\n",
    "7. array.argmax() - (this will give the index value of the array where there is a maximum value)\n",
    "8. array.argmin() - this will return the index of minimum value\n",
    "9. array.argsort() - this will first sort an array and then return their index values. Gives out an array of indexes \n",
    "10. array.max()\n",
    "11. array.min()\n",
    "12. array.shape\n",
    "13. array.size\n",
    "14. array.dtype"
   ]
  },
  {
   "cell_type": "code",
   "execution_count": 25,
   "id": "2428c2b8",
   "metadata": {},
   "outputs": [
    {
     "data": {
      "text/plain": [
       "(1, 5)"
      ]
     },
     "execution_count": 25,
     "metadata": {},
     "output_type": "execute_result"
    }
   ],
   "source": [
    "myarray.shape"
   ]
  },
  {
   "cell_type": "code",
   "execution_count": 26,
   "id": "3079fed3",
   "metadata": {},
   "outputs": [
    {
     "data": {
      "text/plain": [
       "5"
      ]
     },
     "execution_count": 26,
     "metadata": {},
     "output_type": "execute_result"
    }
   ],
   "source": [
    "myarray.size"
   ]
  },
  {
   "cell_type": "code",
   "execution_count": 27,
   "id": "ab9be472",
   "metadata": {},
   "outputs": [
    {
     "data": {
      "text/plain": [
       "dtype('int8')"
      ]
     },
     "execution_count": 27,
     "metadata": {},
     "output_type": "execute_result"
    }
   ],
   "source": [
    "myarray.dtype"
   ]
  },
  {
   "cell_type": "code",
   "execution_count": 28,
   "id": "04cab13f",
   "metadata": {},
   "outputs": [
    {
     "data": {
      "text/plain": [
       "array([16, 19, 12])"
      ]
     },
     "execution_count": 28,
     "metadata": {},
     "output_type": "execute_result"
    }
   ],
   "source": [
    "y= (np.array([[3,4,5],[5,6,7],[8,9,0]])).sum(axis = 0)\n",
    "y"
   ]
  },
  {
   "cell_type": "code",
   "execution_count": 29,
   "id": "f73bbe07",
   "metadata": {},
   "outputs": [
    {
     "data": {
      "text/plain": [
       "array([[3, 5, 8],\n",
       "       [4, 6, 9],\n",
       "       [5, 7, 0]])"
      ]
     },
     "execution_count": 29,
     "metadata": {},
     "output_type": "execute_result"
    }
   ],
   "source": [
    "Transpose_array= (np.array([[3,4,5],[5,6,7],[8,9,0]])).T\n",
    "Transpose_array"
   ]
  },
  {
   "cell_type": "code",
   "execution_count": 30,
   "id": "d24e9e16",
   "metadata": {},
   "outputs": [
    {
     "name": "stdout",
     "output_type": "stream",
     "text": [
      "3\n",
      "5\n",
      "8\n",
      "4\n",
      "6\n",
      "9\n",
      "5\n",
      "7\n",
      "0\n"
     ]
    }
   ],
   "source": [
    "for items in Transpose_array.flat:\n",
    "    print(items)"
   ]
  },
  {
   "cell_type": "code",
   "execution_count": 31,
   "id": "9e4e106d",
   "metadata": {},
   "outputs": [
    {
     "name": "stdout",
     "output_type": "stream",
     "text": [
      "2\n"
     ]
    }
   ],
   "source": [
    "print(Transpose_array.ndim)"
   ]
  },
  {
   "cell_type": "code",
   "execution_count": 32,
   "id": "f1c3c412",
   "metadata": {},
   "outputs": [
    {
     "name": "stdout",
     "output_type": "stream",
     "text": [
      "36\n"
     ]
    }
   ],
   "source": [
    "print(Transpose_array.nbytes)"
   ]
  },
  {
   "cell_type": "markdown",
   "id": "77450db2",
   "metadata": {},
   "source": [
    "Documentation to find methods and attributes of numpy : "
   ]
  }
 ],
 "metadata": {
  "kernelspec": {
   "display_name": "Python 3 (ipykernel)",
   "language": "python",
   "name": "python3"
  },
  "language_info": {
   "codemirror_mode": {
    "name": "ipython",
    "version": 3
   },
   "file_extension": ".py",
   "mimetype": "text/x-python",
   "name": "python",
   "nbconvert_exporter": "python",
   "pygments_lexer": "ipython3",
   "version": "3.9.13"
  }
 },
 "nbformat": 4,
 "nbformat_minor": 5
}
